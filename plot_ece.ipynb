from matplotlib import pyplot as plt
import numpy as np

plt.rcParams.update({'font.size': 25})
# params = {'legend.fontsize': 25,
#           'legend.handlelength': 2}
# plt.rcParams.update(params)

bins=[0.05, 0.15, 0.25, 0.35, 0.45, 0.55, 0.65, 0.75, 0.85, 0.95]
x=[0.1, 0.2, 0.3, 0.4, 0.5, 0.6, 0.7, 0.8, 0.9, 1.0]


ce_prob = np.array([0, 0, 0.0009, 0.0054, 0.0152, 0.0365, 0.0306, 0.0396, 0.0493, 0.8225])
conf_ce = [0,0, 0.2856, 0.3648, 0.4567, 0.5504, 0.6528, 0.7508, 0.8574, 0.9932]
acc_ce = [0, 0, 0.1111, 0.1111, 0.1974, 0.2877, 0.3105, 0.3939, 0.4483, 0.8483]
ece_ce = 0.179

mix_prob = np.array([0.0442, 0.0382, 0.0309, 0.0254, 0.0221, 0.0222, 0.0224, 0.0283, 0.0423, 0.7240])
conf_mix = [0.0595, 0.1481, 0.2485, 0.3525, 0.4472, 0.5533, 0.6491, 0.7522, 0.8560, 0.9929]
acc_mix = [0.2195, 0.2958, 0.4142, 0.4606, 0.3846, 0.4595, 0.4955, 0.5795, 0.5745, 0.9033]
ece_mix = 0.109

rsq_prob = np.array([0.016, 0.0282, 0.025, 0.0213, 0.022, 0.0207, 0.0213, 0.0279, 0.0358, 0.7818])
conf_rsq = [0.0685, 0.1488, 0.2507, 0.3512, 0.449, 0.5513, 0.6526, 0.7529, 0.8582, 0.9861]
acc_rsq = [0.0813, 0.2624, 0.32, 0.2958, 0.4045, 0.3961, 0.3991, 0.4409, 0.5056, 0.8717]
ece_rsq = 0.127

mse_prob=np.array([1, 0, 0, 0, 0, 0, 0, 0, 0, 0])
conf_mse = [0.017, 0, 0, 0, 0, 0, 0, 0, 0, 0]
acc_mse = [0.5380, 0, 0, 0, 0, 0, 0, 0, 0, 0]
ece_mse = 0.521

fig_1 = plt.figure(1)
plt.subplot(2,4,1)
plt.bar(bins, mix_prob, width=0.1,  fc='royalblue');
plt.ylim(0, 1.0)
plt.title('Squentropy')
plt.xlim(0, 1.0)
ax = plt.gca()
ax.set_aspect(1)
# plt.xticks(fontsize=26)
# plt.yticks(fontsize=26)
plt.axvline(x=np.mean(conf_mix*mix_prob)*10, color='gray', linewidth=4, linestyle='--')
plt.axvline(x=0.775, color='gray', linewidth=4, linestyle='dotted')
plt.text(0.69, 0.72, 'Accuracy ', rotation=90, va='center')
plt.text(0.845, 0.6, 'Avg of confidence ', rotation=90, va='center')

# plt.xlabel('Confidence', fontsize = 26)
plt.ylabel(r'$\%$ of samples')
plt.grid(color = 'gray', linestyle = '--', linewidth = 0.5)
# plt.legend()

plt.subplot(2,4,2) 
plt.bar(bins, ce_prob, width=0.1,  fc='royalblue');
plt.ylim(0, 1.0)
plt.xlim(0, 1.0)
ax = plt.gca()
ax.set_aspect(1)
plt.title('Cross-entropy')

# plt.xlabel('Confidence', fontsize = 26)
plt.axvline(x=np.mean(conf_ce*ce_prob)*10, color='gray', linewidth=4, linestyle='--')
plt.axvline(x=0.767, color='gray', linewidth=4, linestyle='dotted')
plt.text(0.68, 0.72, 'Accuracy ', rotation=90, va='center')
plt.text(0.835, 0.6, 'Avg of confidence ', rotation=90, va='center')

plt.grid(color = 'gray', linestyle = '--', linewidth = 0.5)

plt.subplot(2,4,3) 
plt.bar(bins, rsq_prob, width=0.1,  fc='royalblue');
plt.ylim(0, 1.0)
plt.xlim(0, 1.0)
ax = plt.gca()
ax.set_aspect(1)
# plt.xticks(fontsize=26)
# plt.yticks(fontsize=26)
plt.title('Rescaled square loss')

# plt.xlabel('Confidence', fontsize = 26)
plt.axvline(x=np.mean(conf_rsq*rsq_prob)*10, color='gray', linewidth=4, linestyle='--')
plt.axvline(x=0.765, color='gray', linewidth=4, linestyle='dotted')
plt.text(0.68, 0.72, 'Accuracy ', rotation=90, va='center')
plt.text(0.8, 0.6, 'Avg of confidence ', rotation=90, va='center')

plt.grid(color = 'gray', linestyle = '--', linewidth = 0.5)

plt.subplot(2,4,4) 
plt.bar(bins, mse_prob, width=0.1,  fc='royalblue');
plt.ylim(0, 1.0)
plt.xlim(0, 1.0)
ax = plt.gca()
ax.set_aspect(1)
# plt.xticks(fontsize=26)
# plt.yticks(fontsize=26)
plt.title('Standard square loss')

# plt.xlabel('Confidence', fontsize = 26)
plt.axvline(x=np.mean(conf_mse*mse_prob)*10, color='gray', linewidth=4, linestyle='--')
plt.axvline(x=0.544, color='gray', linewidth=4, linestyle='dotted')
plt.text(0.46, 0.72, 'Accuracy ', rotation=90, va='center')
plt.text(0.05, 0.6, 'Avg of confidence ', rotation=90, va='center')

plt.grid(color = 'gray', linestyle = '--', linewidth = 0.5)
# ax = plt.axes()
# ax.set_facecolor("grey")
print(np.mean(conf_ce*ce_prob))
print(np.mean(acc_ce*ce_prob))
# Show plot

mix_gap=np.array(conf_mix) - np.array(acc_mix)
ce_gap=np.array(conf_ce) - np.array(acc_ce)
rsq_gap=np.array(conf_rsq) - np.array(acc_rsq)
mse_gap= np.array(conf_mse) - np.array(acc_mse)

plt.subplot(2,4,5) 
for i in np.arange(len(bins)):
    if i==0:
        plt.bar(bins[i], acc_mix[i], width=0.1,  fc='royalblue', label='Outputs', edgecolor='b', hatch="//");
    else:
        plt.bar(bins[i], acc_mix[i], width=0.1,  fc='royalblue', edgecolor='b', hatch="//");

plt.bar(bins, mix_gap, width=0.1, bottom= acc_mix, fc='lightsalmon', label='Gap');
plt.plot([0,1],[0,1], 'r--')
ax = plt.gca()
ax.set_aspect(1)
plt.ylim(0, 1.0)
plt.xlim(0, 1.0)
plt.ylabel('Accuracy')
#plt.title('Square loss with T. Scale: LSTM+Attention, QNLI')
plt.text(0.2, 0.62, "ECE: 10.9", size = 12,\
         family = "fantasy", color = "r", style = "italic", weight = "light",\
         bbox = dict(facecolor = "r", alpha = 0.2), fontsize = 26)
plt.legend()
plt.grid(color = 'gray', linestyle = '--', linewidth = 0.5)

plt.subplot(2,4,6) 
for i in np.arange(len(bins)):
    if i==0:
        plt.bar(bins[i], acc_ce[i], width=0.1,  fc='royalblue', label='Outputs', edgecolor='b', hatch="//");
    else:
        plt.bar(bins[i], acc_ce[i], width=0.1,  fc='royalblue', edgecolor='b', hatch="//");

plt.bar(bins, ce_gap, width=0.1, bottom= acc_ce, fc='lightsalmon', label='Gap');
plt.plot([0,1],[0,1], 'r--')
ax = plt.gca()
ax.set_aspect(1)
plt.ylim(0, 1.0)
plt.xlim(0, 1.0)
#plt.title('Square loss with T. Scale: LSTM+Attention, QNLI')
plt.text(0.2, 0.62, "ECE: 17.9", size = 12,\
         family = "fantasy", color = "r", style = "italic", weight = "light",\
         bbox = dict(facecolor = "r", alpha = 0.2), fontsize = 26)
plt.legend()
plt.grid(color = 'gray', linestyle = '--', linewidth = 0.5)

plt.subplot(2,4,7) 
for i in np.arange(len(bins)):
    if i==0:
        plt.bar(bins[i], acc_rsq[i], width=0.1,  fc='royalblue', label='Outputs', edgecolor='b', hatch="//");
    else:
        plt.bar(bins[i], acc_rsq[i], width=0.1,  fc='royalblue', edgecolor='b', hatch="//");

plt.bar(bins, rsq_gap, width=0.1, bottom= acc_rsq, fc='lightsalmon', label='Gap');
plt.plot([0,1],[0,1], 'r--')
ax = plt.gca()
ax.set_aspect(1)
plt.ylim(0, 1.0)
plt.xlim(0, 1.0)
#plt.title('Square loss with T. Scale: LSTM+Attention, QNLI')
plt.text(0.2, 0.62, "ECE: 12.7", size = 12,\
         family = "fantasy", color = "r", style = "italic", weight = "light",\
         bbox = dict(facecolor = "r", alpha = 0.2), fontsize = 26)
plt.legend()
plt.grid(color = 'gray', linestyle = '--', linewidth = 0.5)

plt.subplot(2,4,8) 
for i in np.arange(len(bins)):
    if i==0:
        plt.bar(bins[i], acc_mse[i], width=0.1,  fc='royalblue', label='Outputs', edgecolor='b', hatch="//");
        print('mse = ', acc_mse[i])
    else:
        plt.bar(bins[i], acc_mse[i], width=0.1,  fc='royalblue', edgecolor='b', hatch="//");

plt.bar(bins, mse_gap, width=0.1, bottom= acc_mse, fc='lightsalmon', label='Gap');
plt.plot([0,1],[0,1], 'r--')
ax = plt.gca()
ax.set_aspect(1)
plt.ylim(0, 1.0)
plt.xlim(0, 1.0)
#plt.title('Square loss with T. Scale: LSTM+Attention, QNLI')
plt.text(0.2, 0.62, "ECE: 52.1", size = 12,\
         family = "fantasy", color = "r", style = "italic", weight = "light",\
         bbox = dict(facecolor = "r", alpha = 0.2), fontsize = 26)
plt.legend()
plt.grid(color = 'gray', linestyle = '--', linewidth = 0.5)

fig_1.set_size_inches(34, 15)
fig_1.text(0.5, 0.04, 'Confidence', ha='center')

plt.show()
fig_1.savefig('c100_diagram_ce.pdf', dpi=1200, format='pdf')
